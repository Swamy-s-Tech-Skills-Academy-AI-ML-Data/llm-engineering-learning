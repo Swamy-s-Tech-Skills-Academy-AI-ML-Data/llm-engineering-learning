{
 "cells": [
  {
   "cell_type": "markdown",
   "id": "b14ab880",
   "metadata": {},
   "source": [
    "# Gathering Essential Diagnostic information\n",
    "\n",
    "## Please run this next cell to gather some important data\n",
    "\n",
    "Please run the next cell; it should take a minute or so to run (mostly the network test).\n",
    "Then email me the output of the last cell to ed@edwarddonner.com.\n",
    "Alternatively: this will create a file called report.txt - just attach the file to your email."
   ]
  },
  {
   "cell_type": "code",
   "execution_count": null,
   "id": "31b220d6",
   "metadata": {},
   "outputs": [],
   "source": [
    "# Run my diagnostics report to collect key information for debugging\n",
    "# Please email me the results. Either copy & paste the output, or attach the file report.txt\n",
    "\n",
    "!pip install -q requests speedtest-cli psutil setuptools\n",
    "from diagnostics import Diagnostics\n",
    "Diagnostics().run()"
   ]
  }
 ],
 "metadata": {
  "kernelspec": {
   "display_name": "llm-engineering (3.12.10)",
   "language": "python",
   "name": "python3"
  },
  "language_info": {
   "codemirror_mode": {
    "name": "ipython",
    "version": 3
   },
   "file_extension": ".py",
   "mimetype": "text/x-python",
   "name": "python",
   "nbconvert_exporter": "python",
   "pygments_lexer": "ipython3",
   "version": "3.12.10"
  }
 },
 "nbformat": 4,
 "nbformat_minor": 5
}
